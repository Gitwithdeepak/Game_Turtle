{
 "cells": [
  {
   "cell_type": "code",
   "execution_count": null,
   "id": "20f54a69",
   "metadata": {},
   "outputs": [],
   "source": [
    "# Turtle Game\n",
    "import turtle\n",
    "turtle.speed(10)\n",
    "turtle.color('blue','green')\n",
    "turtle.begin_fill()\n",
    "while True:\n",
    "    turtle.forward(200)\n",
    "    turtle.left(170)\n",
    "    if abs(turtle.pos())<1:\n",
    "            break\n",
    "            turtle.end()\n",
    "            turtle.done() "
   ]
  }
 ],
 "metadata": {
  "kernelspec": {
   "display_name": "Python 3 (ipykernel)",
   "language": "python",
   "name": "python3"
  },
  "language_info": {
   "codemirror_mode": {
    "name": "ipython",
    "version": 3
   },
   "file_extension": ".py",
   "mimetype": "text/x-python",
   "name": "python",
   "nbconvert_exporter": "python",
   "pygments_lexer": "ipython3",
   "version": "3.9.7"
  }
 },
 "nbformat": 4,
 "nbformat_minor": 5
}
